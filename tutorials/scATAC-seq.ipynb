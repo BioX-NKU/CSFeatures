{
 "cells": [
  {
   "cell_type": "code",
   "execution_count": 1,
   "id": "62f3504c",
   "metadata": {
    "ExecuteTime": {
     "end_time": "2024-09-28T14:11:52.044486Z",
     "start_time": "2024-09-28T14:11:49.400206Z"
    }
   },
   "outputs": [],
   "source": [
    "import marker_utils\n",
    "import scanpy as sc\n",
    "import marker_utils.save_data as save_data"
   ]
  },
  {
   "cell_type": "markdown",
   "id": "a15673f0",
   "metadata": {},
   "source": [
    "Before inputting the scATAC-seq data, it must be preprocessed. We have provided a preprocessing script for this purpose.\n",
    "\n",
    "python atac_processed.py --input atac_data_path --fpeak 0.05 --output ./"
   ]
  },
  {
   "cell_type": "code",
   "execution_count": 2,
   "id": "bd64976a",
   "metadata": {
    "ExecuteTime": {
     "end_time": "2024-09-28T14:11:52.197534Z",
     "start_time": "2024-09-28T14:11:52.046086Z"
    }
   },
   "outputs": [
    {
     "data": {
      "text/plain": [
       "AnnData object with n_obs × n_vars = 2088 × 140102\n",
       "    obs: 'cell_type', 'cell_type_raw', 'celltype'\n",
       "    var: 'peak'"
      ]
     },
     "execution_count": 2,
     "metadata": {},
     "output_type": "execute_result"
    }
   ],
   "source": [
    "# Please ensure that the data's obs contains a celltype entry to indicate the cluster to which each cell belongs.\n",
    "sc.read_h5ad('example_data/atac.h5ad')"
   ]
  },
  {
   "cell_type": "code",
   "execution_count": 3,
   "id": "d50d8366",
   "metadata": {
    "ExecuteTime": {
     "end_time": "2024-09-28T15:16:39.207546Z",
     "start_time": "2024-09-28T14:11:52.199292Z"
    }
   },
   "outputs": [
    {
     "name": "stdout",
     "output_type": "stream",
     "text": [
      "------Loading data------\n",
      "------Data transposition------\n",
      "2088 cells, 140102 genes.\n",
      "------Step1: Calculate PCA------\n",
      "------Step2: Calculate the similarity matrix------\n",
      "------Step3: Adjust the expression value------\n",
      "------Step4: Calculate EI------\n"
     ]
    },
    {
     "name": "stderr",
     "output_type": "stream",
     "text": [
      "cluster:OCrunningcalculate_EI(6/6): 100%|██████| 5/5 [1:04:32<00:00, 774.46s/it]"
     ]
    },
    {
     "name": "stdout",
     "output_type": "stream",
     "text": [
      "1.36 seconds used for calculate_mean_and_var.\n",
      "3814.47 seconds used for calculate_smoothness.\n",
      "2.00 seconds used for calculate_V.\n",
      "7.69 seconds used for calculate_prop.\n",
      "46.37 seconds used for calculate_local_mean_max.\n",
      "0.31 seconds used for calculate_EI.\n",
      "------Congratulations, success!------\n"
     ]
    },
    {
     "name": "stderr",
     "output_type": "stream",
     "text": [
      "\n"
     ]
    }
   ],
   "source": [
    "# Run with the default parameters.\n",
    "info,adata=marker_utils.getMarkersEI('example_data/atac.h5ad')"
   ]
  },
  {
   "cell_type": "code",
   "execution_count": 4,
   "id": "68fbce76",
   "metadata": {
    "ExecuteTime": {
     "end_time": "2024-09-28T15:16:39.298177Z",
     "start_time": "2024-09-28T15:16:39.211272Z"
    }
   },
   "outputs": [
    {
     "data": {
      "text/html": [
       "<div>\n",
       "<style scoped>\n",
       "    .dataframe tbody tr th:only-of-type {\n",
       "        vertical-align: middle;\n",
       "    }\n",
       "\n",
       "    .dataframe tbody tr th {\n",
       "        vertical-align: top;\n",
       "    }\n",
       "\n",
       "    .dataframe thead th {\n",
       "        text-align: right;\n",
       "    }\n",
       "</style>\n",
       "<table border=\"1\" class=\"dataframe\">\n",
       "  <thead>\n",
       "    <tr style=\"text-align: right;\">\n",
       "      <th></th>\n",
       "      <th>Features</th>\n",
       "      <th>Mean</th>\n",
       "      <th>Smoothness</th>\n",
       "      <th>Local_max</th>\n",
       "      <th>V</th>\n",
       "      <th>Prop</th>\n",
       "      <th>Prop_sum</th>\n",
       "      <th>P</th>\n",
       "      <th>EI</th>\n",
       "    </tr>\n",
       "  </thead>\n",
       "  <tbody>\n",
       "    <tr>\n",
       "      <th>83745</th>\n",
       "      <td>chr3_50421761_50422261</td>\n",
       "      <td>0.350000</td>\n",
       "      <td>0.064868</td>\n",
       "      <td>0.133333</td>\n",
       "      <td>1.888457</td>\n",
       "      <td>1.586013e+15</td>\n",
       "      <td>5.746579</td>\n",
       "      <td>0.005581</td>\n",
       "      <td>0.079263</td>\n",
       "    </tr>\n",
       "    <tr>\n",
       "      <th>94812</th>\n",
       "      <td>chr4_96719126_96719626</td>\n",
       "      <td>0.325000</td>\n",
       "      <td>0.067811</td>\n",
       "      <td>0.400000</td>\n",
       "      <td>1.557634</td>\n",
       "      <td>1.301879e+14</td>\n",
       "      <td>154.545778</td>\n",
       "      <td>0.038140</td>\n",
       "      <td>0.000175</td>\n",
       "    </tr>\n",
       "    <tr>\n",
       "      <th>104963</th>\n",
       "      <td>chr5_115436434_115436934</td>\n",
       "      <td>0.333333</td>\n",
       "      <td>0.064387</td>\n",
       "      <td>0.333333</td>\n",
       "      <td>1.725673</td>\n",
       "      <td>2.995592e+14</td>\n",
       "      <td>893.704854</td>\n",
       "      <td>0.047442</td>\n",
       "      <td>0.000081</td>\n",
       "    </tr>\n",
       "    <tr>\n",
       "      <th>46912</th>\n",
       "      <td>chr15_30693733_30694233</td>\n",
       "      <td>0.291667</td>\n",
       "      <td>0.073111</td>\n",
       "      <td>0.133333</td>\n",
       "      <td>1.163563</td>\n",
       "      <td>4.644323e+12</td>\n",
       "      <td>26.634278</td>\n",
       "      <td>0.021359</td>\n",
       "      <td>0.000031</td>\n",
       "    </tr>\n",
       "    <tr>\n",
       "      <th>127974</th>\n",
       "      <td>chr8_93917767_93918267</td>\n",
       "      <td>0.308333</td>\n",
       "      <td>0.068820</td>\n",
       "      <td>0.266667</td>\n",
       "      <td>1.381423</td>\n",
       "      <td>2.458932e+13</td>\n",
       "      <td>322.080783</td>\n",
       "      <td>0.039683</td>\n",
       "      <td>0.000015</td>\n",
       "    </tr>\n",
       "    <tr>\n",
       "      <th>52460</th>\n",
       "      <td>chr16_18083366_18083866</td>\n",
       "      <td>0.266667</td>\n",
       "      <td>0.073794</td>\n",
       "      <td>0.133333</td>\n",
       "      <td>0.963640</td>\n",
       "      <td>3.812292e+11</td>\n",
       "      <td>7.299099</td>\n",
       "      <td>0.007767</td>\n",
       "      <td>0.000008</td>\n",
       "    </tr>\n",
       "  </tbody>\n",
       "</table>\n",
       "</div>"
      ],
      "text/plain": [
       "       Features      Mean  Smoothness  Local_max         V          Prop  \\\n",
       "83745     83745  0.350000    0.064868   0.133333  1.888457  1.586013e+15   \n",
       "94812     94812  0.325000    0.067811   0.400000  1.557634  1.301879e+14   \n",
       "104963   104963  0.333333    0.064387   0.333333  1.725673  2.995592e+14   \n",
       "46912     46912  0.291667    0.073111   0.133333  1.163563  4.644323e+12   \n",
       "127974   127974  0.308333    0.068820   0.266667  1.381423  2.458932e+13   \n",
       "52460     52460  0.266667    0.073794   0.133333  0.963640  3.812292e+11   \n",
       "\n",
       "          Prop_sum         P        EI  \n",
       "83745     5.746579  0.005581  0.079263  \n",
       "94812   154.545778  0.038140  0.000175  \n",
       "104963  893.704854  0.047442  0.000081  \n",
       "46912    26.634278  0.021359  0.000031  \n",
       "127974  322.080783  0.039683  0.000015  \n",
       "52460     7.299099  0.007767  0.000008  "
      ]
     },
     "execution_count": 4,
     "metadata": {},
     "output_type": "execute_result"
    }
   ],
   "source": [
    "# Print the first six Features.\n",
    "info[list(info.keys())[0]].sort_values(by='EI', ascending=False).head(6)"
   ]
  },
  {
   "cell_type": "code",
   "execution_count": 5,
   "id": "1ad6b9ca",
   "metadata": {
    "ExecuteTime": {
     "end_time": "2024-09-28T15:16:45.915454Z",
     "start_time": "2024-09-28T15:16:39.303362Z"
    }
   },
   "outputs": [],
   "source": [
    "# Save the data to the output folder.\n",
    "save_data(info,output_dir=\"./output\") "
   ]
  }
 ],
 "metadata": {
  "kernelspec": {
   "display_name": "CSMarker",
   "language": "python",
   "name": "csmarker"
  },
  "language_info": {
   "codemirror_mode": {
    "name": "ipython",
    "version": 3
   },
   "file_extension": ".py",
   "mimetype": "text/x-python",
   "name": "python",
   "nbconvert_exporter": "python",
   "pygments_lexer": "ipython3",
   "version": "3.10.14"
  },
  "toc": {
   "base_numbering": 1,
   "nav_menu": {},
   "number_sections": true,
   "sideBar": true,
   "skip_h1_title": false,
   "title_cell": "Table of Contents",
   "title_sidebar": "Contents",
   "toc_cell": false,
   "toc_position": {},
   "toc_section_display": true,
   "toc_window_display": false
  },
  "varInspector": {
   "cols": {
    "lenName": 16,
    "lenType": 16,
    "lenVar": 40
   },
   "kernels_config": {
    "python": {
     "delete_cmd_postfix": "",
     "delete_cmd_prefix": "del ",
     "library": "var_list.py",
     "varRefreshCmd": "print(var_dic_list())"
    },
    "r": {
     "delete_cmd_postfix": ") ",
     "delete_cmd_prefix": "rm(",
     "library": "var_list.r",
     "varRefreshCmd": "cat(var_dic_list()) "
    }
   },
   "types_to_exclude": [
    "module",
    "function",
    "builtin_function_or_method",
    "instance",
    "_Feature"
   ],
   "window_display": false
  }
 },
 "nbformat": 4,
 "nbformat_minor": 5
}

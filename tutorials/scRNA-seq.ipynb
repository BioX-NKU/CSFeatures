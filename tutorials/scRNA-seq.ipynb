{
 "cells": [
  {
   "cell_type": "code",
   "execution_count": 1,
   "id": "370f2f4f",
   "metadata": {
    "ExecuteTime": {
     "end_time": "2024-09-28T14:12:57.167739Z",
     "start_time": "2024-09-28T14:12:54.372792Z"
    }
   },
   "outputs": [],
   "source": [
    "import marker_utils\n",
    "import scanpy as sc\n",
    "import marker_utils.save_data as save_data"
   ]
  },
  {
   "cell_type": "code",
   "execution_count": 2,
   "id": "fc407467",
   "metadata": {
    "ExecuteTime": {
     "end_time": "2024-09-28T14:12:57.216292Z",
     "start_time": "2024-09-28T14:12:57.169910Z"
    }
   },
   "outputs": [
    {
     "data": {
      "text/plain": [
       "AnnData object with n_obs × n_vars = 2700 × 13714\n",
       "    obs: 'clusters', 'celltype'"
      ]
     },
     "execution_count": 2,
     "metadata": {},
     "output_type": "execute_result"
    }
   ],
   "source": [
    "# Please ensure that the data's obs contains a celltype entry to indicate the cluster to which each cell belongs.\n",
    "sc.read_h5ad('./example_data/rna.h5ad')"
   ]
  },
  {
   "cell_type": "code",
   "execution_count": 3,
   "id": "023abd76",
   "metadata": {
    "ExecuteTime": {
     "end_time": "2024-09-28T14:17:52.051198Z",
     "start_time": "2024-09-28T14:12:57.218702Z"
    }
   },
   "outputs": [
    {
     "name": "stdout",
     "output_type": "stream",
     "text": [
      "------Loading data------\n",
      "------Data transposition------\n",
      "2700 cells, 13714 genes.\n",
      "------Step1: Calculate PCA------\n",
      "------Step2: Calculate the similarity matrix------\n",
      "------Step3: Adjust the expression value------\n",
      "------Step4: Calculate EI------\n"
     ]
    },
    {
     "name": "stderr",
     "output_type": "stream",
     "text": [
      "cluster:Plateletrunningcalculate_EI(6/6): 100%|███| 9/9 [04:18<00:00, 28.67s/it]"
     ]
    },
    {
     "name": "stdout",
     "output_type": "stream",
     "text": [
      "0.36 seconds used for calculate_mean_and_var.\n",
      "246.64 seconds used for calculate_smoothness.\n",
      "0.12 seconds used for calculate_V.\n",
      "0.70 seconds used for calculate_prop.\n",
      "10.08 seconds used for calculate_local_mean_max.\n",
      "0.05 seconds used for calculate_EI.\n",
      "------Congratulations, success!------\n"
     ]
    },
    {
     "name": "stderr",
     "output_type": "stream",
     "text": [
      "\n"
     ]
    }
   ],
   "source": [
    "# Run with the default parameters.\n",
    "info,adata=marker_utils.getMarkersEI('./example_data/rna.h5ad')"
   ]
  },
  {
   "cell_type": "code",
   "execution_count": 4,
   "id": "82c4811b",
   "metadata": {
    "ExecuteTime": {
     "end_time": "2024-09-28T14:17:52.068438Z",
     "start_time": "2024-09-28T14:17:52.053317Z"
    }
   },
   "outputs": [
    {
     "data": {
      "text/html": [
       "<div>\n",
       "<style scoped>\n",
       "    .dataframe tbody tr th:only-of-type {\n",
       "        vertical-align: middle;\n",
       "    }\n",
       "\n",
       "    .dataframe tbody tr th {\n",
       "        vertical-align: top;\n",
       "    }\n",
       "\n",
       "    .dataframe thead th {\n",
       "        text-align: right;\n",
       "    }\n",
       "</style>\n",
       "<table border=\"1\" class=\"dataframe\">\n",
       "  <thead>\n",
       "    <tr style=\"text-align: right;\">\n",
       "      <th></th>\n",
       "      <th>Features</th>\n",
       "      <th>Mean</th>\n",
       "      <th>Smoothness</th>\n",
       "      <th>Local_max</th>\n",
       "      <th>V</th>\n",
       "      <th>Prop</th>\n",
       "      <th>Prop_sum</th>\n",
       "      <th>P</th>\n",
       "      <th>EI</th>\n",
       "    </tr>\n",
       "  </thead>\n",
       "  <tbody>\n",
       "    <tr>\n",
       "      <th>11147</th>\n",
       "      <td>CCR7</td>\n",
       "      <td>0.850457</td>\n",
       "      <td>0.007735</td>\n",
       "      <td>1.374805</td>\n",
       "      <td>93.509598</td>\n",
       "      <td>6.053247e+18</td>\n",
       "      <td>1.393134e+15</td>\n",
       "      <td>0.265525</td>\n",
       "      <td>1.510977e-03</td>\n",
       "    </tr>\n",
       "    <tr>\n",
       "      <th>8454</th>\n",
       "      <td>NELL2</td>\n",
       "      <td>0.276653</td>\n",
       "      <td>0.015024</td>\n",
       "      <td>0.588101</td>\n",
       "      <td>5.094197</td>\n",
       "      <td>5.483430e+06</td>\n",
       "      <td>3.178848e+04</td>\n",
       "      <td>0.077088</td>\n",
       "      <td>7.017379e-06</td>\n",
       "    </tr>\n",
       "    <tr>\n",
       "      <th>2681</th>\n",
       "      <td>FHIT</td>\n",
       "      <td>0.348172</td>\n",
       "      <td>0.014723</td>\n",
       "      <td>0.760505</td>\n",
       "      <td>8.233491</td>\n",
       "      <td>1.120530e+08</td>\n",
       "      <td>5.213285e+06</td>\n",
       "      <td>0.117773</td>\n",
       "      <td>1.205050e-06</td>\n",
       "    </tr>\n",
       "    <tr>\n",
       "      <th>8355</th>\n",
       "      <td>RP11-291B21.2</td>\n",
       "      <td>0.174513</td>\n",
       "      <td>0.017916</td>\n",
       "      <td>0.508250</td>\n",
       "      <td>1.699847</td>\n",
       "      <td>8.533238e+03</td>\n",
       "      <td>1.937045e+02</td>\n",
       "      <td>0.036403</td>\n",
       "      <td>6.396036e-07</td>\n",
       "    </tr>\n",
       "    <tr>\n",
       "      <th>4219</th>\n",
       "      <td>ADTRP</td>\n",
       "      <td>0.176416</td>\n",
       "      <td>0.018239</td>\n",
       "      <td>0.487070</td>\n",
       "      <td>1.706381</td>\n",
       "      <td>1.750278e+04</td>\n",
       "      <td>1.145434e+03</td>\n",
       "      <td>0.053533</td>\n",
       "      <td>2.265048e-07</td>\n",
       "    </tr>\n",
       "    <tr>\n",
       "      <th>7984</th>\n",
       "      <td>PLEKHB1</td>\n",
       "      <td>0.135792</td>\n",
       "      <td>0.018304</td>\n",
       "      <td>0.434600</td>\n",
       "      <td>1.007427</td>\n",
       "      <td>3.603479e+03</td>\n",
       "      <td>1.175668e+03</td>\n",
       "      <td>0.053533</td>\n",
       "      <td>2.791461e-08</td>\n",
       "    </tr>\n",
       "  </tbody>\n",
       "</table>\n",
       "</div>"
      ],
      "text/plain": [
       "            Features      Mean  Smoothness  Local_max          V  \\\n",
       "11147           CCR7  0.850457    0.007735   1.374805  93.509598   \n",
       "8454           NELL2  0.276653    0.015024   0.588101   5.094197   \n",
       "2681            FHIT  0.348172    0.014723   0.760505   8.233491   \n",
       "8355   RP11-291B21.2  0.174513    0.017916   0.508250   1.699847   \n",
       "4219           ADTRP  0.176416    0.018239   0.487070   1.706381   \n",
       "7984         PLEKHB1  0.135792    0.018304   0.434600   1.007427   \n",
       "\n",
       "               Prop      Prop_sum         P            EI  \n",
       "11147  6.053247e+18  1.393134e+15  0.265525  1.510977e-03  \n",
       "8454   5.483430e+06  3.178848e+04  0.077088  7.017379e-06  \n",
       "2681   1.120530e+08  5.213285e+06  0.117773  1.205050e-06  \n",
       "8355   8.533238e+03  1.937045e+02  0.036403  6.396036e-07  \n",
       "4219   1.750278e+04  1.145434e+03  0.053533  2.265048e-07  \n",
       "7984   3.603479e+03  1.175668e+03  0.053533  2.791461e-08  "
      ]
     },
     "execution_count": 4,
     "metadata": {},
     "output_type": "execute_result"
    }
   ],
   "source": [
    "# Print the first six Features.\n",
    "info[list(info.keys())[0]].sort_values(by='EI', ascending=False).head(6)"
   ]
  },
  {
   "cell_type": "code",
   "execution_count": 5,
   "id": "919a4c68",
   "metadata": {
    "ExecuteTime": {
     "end_time": "2024-09-28T14:17:53.118394Z",
     "start_time": "2024-09-28T14:17:52.069835Z"
    }
   },
   "outputs": [],
   "source": [
    "# Save the data to the output folder.\n",
    "save_data(info,output_dir=\"./output\") \n"
   ]
  }
 ],
 "metadata": {
  "kernelspec": {
   "display_name": "CSMarker",
   "language": "python",
   "name": "csmarker"
  },
  "language_info": {
   "codemirror_mode": {
    "name": "ipython",
    "version": 3
   },
   "file_extension": ".py",
   "mimetype": "text/x-python",
   "name": "python",
   "nbconvert_exporter": "python",
   "pygments_lexer": "ipython3",
   "version": "3.10.14"
  },
  "toc": {
   "base_numbering": 1,
   "nav_menu": {},
   "number_sections": true,
   "sideBar": true,
   "skip_h1_title": false,
   "title_cell": "Table of Contents",
   "title_sidebar": "Contents",
   "toc_cell": false,
   "toc_position": {},
   "toc_section_display": true,
   "toc_window_display": false
  },
  "varInspector": {
   "cols": {
    "lenName": 16,
    "lenType": 16,
    "lenVar": 40
   },
   "kernels_config": {
    "python": {
     "delete_cmd_postfix": "",
     "delete_cmd_prefix": "del ",
     "library": "var_list.py",
     "varRefreshCmd": "print(var_dic_list())"
    },
    "r": {
     "delete_cmd_postfix": ") ",
     "delete_cmd_prefix": "rm(",
     "library": "var_list.r",
     "varRefreshCmd": "cat(var_dic_list()) "
    }
   },
   "types_to_exclude": [
    "module",
    "function",
    "builtin_function_or_method",
    "instance",
    "_Feature"
   ],
   "window_display": false
  }
 },
 "nbformat": 4,
 "nbformat_minor": 5
}

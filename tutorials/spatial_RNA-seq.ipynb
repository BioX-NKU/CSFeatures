{
 "cells": [
  {
   "cell_type": "code",
   "execution_count": 1,
   "id": "635dad0b",
   "metadata": {
    "ExecuteTime": {
     "end_time": "2024-09-28T14:42:06.884893Z",
     "start_time": "2024-09-28T14:42:03.742561Z"
    }
   },
   "outputs": [],
   "source": [
    "import marker_utils\n",
    "import scanpy as sc\n",
    "import marker_utils.save_data as save_data"
   ]
  },
  {
   "cell_type": "code",
   "execution_count": 2,
   "id": "e4c105ff",
   "metadata": {
    "ExecuteTime": {
     "end_time": "2024-09-28T14:42:07.094585Z",
     "start_time": "2024-09-28T14:42:06.888147Z"
    }
   },
   "outputs": [    
    {
     "data": {
      "text/plain": [
       "AnnData object with n_obs × n_vars = 2686 × 32285\n",
       "    obs: 'in_tissue', 'array_row', 'array_col', 'domain', 'celltype'\n",
       "    var: 'gene_ids', 'feature_types', 'genome'\n",
       "    uns: 'spatial'\n",
       "    obsm: 'spatial'"
      ]
     },
     "execution_count": 2,
     "metadata": {},
     "output_type": "execute_result"
    }
   ],
   "source": [
    "# Ensure that the obs in the data contains a celltype entry to indicate the cluster to which each cell belongs. \n",
    "# Additionally, the obsm should include a spatial entry to provide spatial information.\n",
    "sc.read_h5ad('./example_data/spatial_rna.h5ad')"
   ]
  },
  {
   "cell_type": "code",
   "execution_count": 3,
   "id": "06c0063c",
   "metadata": {
    "ExecuteTime": {
     "end_time": "2024-09-28T15:18:44.310466Z",
     "start_time": "2024-09-28T14:42:07.097443Z"
    }
   },
   "outputs": [
    {
     "name": "stdout",
     "output_type": "stream",
     "text": [
      "------Loading data------\n"
     ]
    },
    {
     "name": "stdout",
     "output_type": "stream",
     "text": [
      "------Data transposition------\n",
      "2686 cells, 32285 genes.\n",
      "------Step1: Calculate PCA------\n",
      "------Step2: Calculate the similarity matrix------\n",
      "------Step3: Adjust the expression value------\n",
      "------Step4: Calculate EI------\n"
     ]
    },
    {
     "name": "stderr",
     "output_type": "stream",
     "text": [
      "cluster:Pyramidal_layer_dentate_gyrusrunningcalculate_EI(6/6): 100%|█| 15/15 [35"
     ]
    },
    {
     "name": "stdout",
     "output_type": "stream",
     "text": [
      "9.05 seconds used for calculate_mean_and_var.\n",
      "2019.33 seconds used for calculate_smoothness.\n",
      "0.26 seconds used for calculate_V.\n",
      "6.40 seconds used for calculate_prop.\n",
      "74.06 seconds used for calculate_local_mean_max.\n",
      "0.22 seconds used for calculate_EI.\n",
      "------Congratulations, success!------\n"
     ]
    },
    {
     "name": "stderr",
     "output_type": "stream",
     "text": [
      "\n"
     ]
    }
   ],
   "source": [
    "# Run with the default parameters.\n",
    "info,adata=marker_utils.get_spatial_MarkersEI('example_data/spatial_rna.h5ad')"
   ]
  },
  {
   "cell_type": "code",
   "execution_count": 4,
   "id": "bafa624c",
   "metadata": {
    "ExecuteTime": {
     "end_time": "2024-09-28T15:18:44.338236Z",
     "start_time": "2024-09-28T15:18:44.315316Z"
    }
   },
   "outputs": [
    {
     "data": {
      "text/html": [
       "<div>\n",
       "<style scoped>\n",
       "    .dataframe tbody tr th:only-of-type {\n",
       "        vertical-align: middle;\n",
       "    }\n",
       "\n",
       "    .dataframe tbody tr th {\n",
       "        vertical-align: top;\n",
       "    }\n",
       "\n",
       "    .dataframe thead th {\n",
       "        text-align: right;\n",
       "    }\n",
       "</style>\n",
       "<table border=\"1\" class=\"dataframe\">\n",
       "  <thead>\n",
       "    <tr style=\"text-align: right;\">\n",
       "      <th></th>\n",
       "      <th>Features</th>\n",
       "      <th>Mean</th>\n",
       "      <th>Smoothness</th>\n",
       "      <th>Local_max</th>\n",
       "      <th>V</th>\n",
       "      <th>Prop</th>\n",
       "      <th>Prop_sum</th>\n",
       "      <th>P</th>\n",
       "      <th>EI</th>\n",
       "    </tr>\n",
       "  </thead>\n",
       "  <tbody>\n",
       "    <tr>\n",
       "      <th>26636</th>\n",
       "      <td>Mylk</td>\n",
       "      <td>1.159532</td>\n",
       "      <td>0.011180</td>\n",
       "      <td>1.466667</td>\n",
       "      <td>120.257949</td>\n",
       "      <td>1.559042e+26</td>\n",
       "      <td>3.180806e+20</td>\n",
       "      <td>0.359477</td>\n",
       "      <td>7.671266e-04</td>\n",
       "    </tr>\n",
       "    <tr>\n",
       "      <th>7779</th>\n",
       "      <td>Trim54</td>\n",
       "      <td>0.677043</td>\n",
       "      <td>0.032827</td>\n",
       "      <td>0.600000</td>\n",
       "      <td>13.963813</td>\n",
       "      <td>1.468943e+12</td>\n",
       "      <td>1.532703e+07</td>\n",
       "      <td>0.125984</td>\n",
       "      <td>4.035602e-05</td>\n",
       "    </tr>\n",
       "    <tr>\n",
       "      <th>23262</th>\n",
       "      <td>Crhbp</td>\n",
       "      <td>1.031128</td>\n",
       "      <td>0.019567</td>\n",
       "      <td>2.333333</td>\n",
       "      <td>54.338144</td>\n",
       "      <td>8.442132e+18</td>\n",
       "      <td>2.801390e+17</td>\n",
       "      <td>0.300654</td>\n",
       "      <td>1.042063e-08</td>\n",
       "    </tr>\n",
       "    <tr>\n",
       "      <th>7781</th>\n",
       "      <td>Ucn</td>\n",
       "      <td>0.194553</td>\n",
       "      <td>0.045482</td>\n",
       "      <td>0.266667</td>\n",
       "      <td>0.832209</td>\n",
       "      <td>8.213274e+05</td>\n",
       "      <td>2.932169e+03</td>\n",
       "      <td>0.059859</td>\n",
       "      <td>8.925275e-09</td>\n",
       "    </tr>\n",
       "    <tr>\n",
       "      <th>16885</th>\n",
       "      <td>AU023762</td>\n",
       "      <td>0.178988</td>\n",
       "      <td>0.044016</td>\n",
       "      <td>0.266667</td>\n",
       "      <td>0.727846</td>\n",
       "      <td>1.788499e+06</td>\n",
       "      <td>2.063250e+04</td>\n",
       "      <td>0.071895</td>\n",
       "      <td>2.415671e-09</td>\n",
       "    </tr>\n",
       "    <tr>\n",
       "      <th>18716</th>\n",
       "      <td>Emid1</td>\n",
       "      <td>0.319066</td>\n",
       "      <td>0.035334</td>\n",
       "      <td>1.466667</td>\n",
       "      <td>2.881205</td>\n",
       "      <td>9.640547e+10</td>\n",
       "      <td>1.737951e+09</td>\n",
       "      <td>0.161765</td>\n",
       "      <td>2.080036e-09</td>\n",
       "    </tr>\n",
       "  </tbody>\n",
       "</table>\n",
       "</div>"
      ],
      "text/plain": [
       "       Features      Mean  Smoothness  Local_max           V          Prop  \\\n",
       "26636      Mylk  1.159532    0.011180   1.466667  120.257949  1.559042e+26   \n",
       "7779     Trim54  0.677043    0.032827   0.600000   13.963813  1.468943e+12   \n",
       "23262     Crhbp  1.031128    0.019567   2.333333   54.338144  8.442132e+18   \n",
       "7781        Ucn  0.194553    0.045482   0.266667    0.832209  8.213274e+05   \n",
       "16885  AU023762  0.178988    0.044016   0.266667    0.727846  1.788499e+06   \n",
       "18716     Emid1  0.319066    0.035334   1.466667    2.881205  9.640547e+10   \n",
       "\n",
       "           Prop_sum         P            EI  \n",
       "26636  3.180806e+20  0.359477  7.671266e-04  \n",
       "7779   1.532703e+07  0.125984  4.035602e-05  \n",
       "23262  2.801390e+17  0.300654  1.042063e-08  \n",
       "7781   2.932169e+03  0.059859  8.925275e-09  \n",
       "16885  2.063250e+04  0.071895  2.415671e-09  \n",
       "18716  1.737951e+09  0.161765  2.080036e-09  "
      ]
     },
     "execution_count": 4,
     "metadata": {},
     "output_type": "execute_result"
    }
   ],
   "source": [
    "# Print the first six Features.\n",
    "info[list(info.keys())[0]].sort_values(by='EI', ascending=False).head(6)"
   ]
  },
  {
   "cell_type": "code",
   "execution_count": 5,
   "id": "1dcd8911",
   "metadata": {
    "ExecuteTime": {
     "end_time": "2024-09-28T15:18:48.577493Z",
     "start_time": "2024-09-28T15:18:44.342064Z"
    }
   },
   "outputs": [],
   "source": [
    "# Save the data to the output folder.\n",
    "save_data(info,output_dir=\"./output\") "
   ]
  }
 ],
 "metadata": {
  "kernelspec": {
   "display_name": "CSMarker",
   "language": "python",
   "name": "csmarker"
  },
  "language_info": {
   "codemirror_mode": {
    "name": "ipython",
    "version": 3
   },
   "file_extension": ".py",
   "mimetype": "text/x-python",
   "name": "python",
   "nbconvert_exporter": "python",
   "pygments_lexer": "ipython3",
   "version": "3.10.14"
  },
  "toc": {
   "base_numbering": 1,
   "nav_menu": {},
   "number_sections": true,
   "sideBar": true,
   "skip_h1_title": false,
   "title_cell": "Table of Contents",
   "title_sidebar": "Contents",
   "toc_cell": false,
   "toc_position": {},
   "toc_section_display": true,
   "toc_window_display": false
  },
  "varInspector": {
   "cols": {
    "lenName": 16,
    "lenType": 16,
    "lenVar": 40
   },
   "kernels_config": {
    "python": {
     "delete_cmd_postfix": "",
     "delete_cmd_prefix": "del ",
     "library": "var_list.py",
     "varRefreshCmd": "print(var_dic_list())"
    },
    "r": {
     "delete_cmd_postfix": ") ",
     "delete_cmd_prefix": "rm(",
     "library": "var_list.r",
     "varRefreshCmd": "cat(var_dic_list()) "
    }
   },
   "types_to_exclude": [
    "module",
    "function",
    "builtin_function_or_method",
    "instance",
    "_Feature"
   ],
   "window_display": false
  }
 },
 "nbformat": 4,
 "nbformat_minor": 5
}

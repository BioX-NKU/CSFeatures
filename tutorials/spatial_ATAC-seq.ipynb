{
 "cells": [
  {
   "cell_type": "code",
   "execution_count": 1,
   "id": "3df2d151",
   "metadata": {
    "ExecuteTime": {
     "end_time": "2024-09-28T14:27:26.197448Z",
     "start_time": "2024-09-28T14:27:23.731427Z"
    }
   },
   "outputs": [],
   "source": [
    "import marker_utils\n",
    "import scanpy as sc\n",
    "import marker_utils.save_data as save_data"
   ]
  },
  {
   "cell_type": "markdown",
   "id": "b54ee6e6",
   "metadata": {},
   "source": [
    "Before inputting the scATAC-seq data, it must be preprocessed. We have provided a preprocessing script for this purpose.\n",
    "\n",
    "python atac_processed.py --input atac_data_path --fpeak 0.05 --output ./"
   ]
  },
  {
   "cell_type": "code",
   "execution_count": 2,
   "id": "31e67a9d",
   "metadata": {
    "ExecuteTime": {
     "end_time": "2024-09-28T14:27:27.312548Z",
     "start_time": "2024-09-28T14:27:26.199472Z"
    }
   },
   "outputs": [
    {
     "data": {
      "text/plain": [
       "AnnData object with n_obs × n_vars = 2129 × 37475\n",
       "    obs: 'gex_barcode', 'atac_barcode', 'is_cell', 'excluded_reason', 'gex_raw_reads', 'gex_mapped_reads', 'gex_conf_intergenic_reads', 'gex_conf_exonic_reads', 'gex_conf_intronic_reads', 'gex_conf_exonic_unique_reads', 'gex_conf_exonic_antisense_reads', 'gex_conf_exonic_dup_reads', 'gex_exonic_umis', 'gex_conf_intronic_unique_reads', 'gex_conf_intronic_antisense_reads', 'gex_conf_intronic_dup_reads', 'gex_intronic_umis', 'gex_conf_txomic_unique_reads', 'gex_umis_count', 'gex_genes_count', 'atac_raw_reads', 'atac_unmapped_reads', 'atac_lowmapq', 'atac_dup_reads', 'atac_chimeric_reads', 'atac_mitochondrial_reads', 'atac_fragments', 'atac_TSS_fragments', 'atac_peak_region_fragments', 'atac_peak_region_cutsites', 'Sample', 'TSSEnrichment', 'ReadsInTSS', 'ReadsInPromoter', 'ReadsInBlacklist', 'PromoterRatio', 'PassQC', 'NucleosomeRatio', 'nMultiFrags', 'nMonoFrags', 'nFrags', 'nDiFrags', 'Gex_RiboRatio', 'Gex_nUMI', 'Gex_nGenes', 'Gex_MitoRatio', 'BlacklistRatio', 'array_col', 'array_row', 'Harmony_ATAC_0.35', 'Harmony_RNA_0.7', 'Harmony_Combined_1.2_mergeCortex', 'ReadsInPeaks', 'FRIP', 'Annotation_for_Combined', 'nb_features', 'x', 'y', 'celltype'\n",
       "    var: 'Peaks', 'E18_5-S1', 'n_cells'\n",
       "    uns: 'neighbors', 'pca', 'peaks', 'reference_sequences', 'tsne', 'umap'\n",
       "    obsm: 'X_pca', 'X_tsne', 'X_umap', 'insertion', 'spatial'\n",
       "    varm: 'PCs'\n",
       "    obsp: 'connectivities', 'distances'"
      ]
     },
     "execution_count": 2,
     "metadata": {},
     "output_type": "execute_result"
    }
   ],
   "source": [
    "# Ensure that the obs in the data contains a celltype entry to indicate the cluster to which each cell belongs. \n",
    "# Additionally, the obsm should include a spatial entry to provide spatial information.\n",
    "sc.read_h5ad('example_data/spatial_atac.h5ad')"
   ]
  },
  {
   "cell_type": "code",
   "execution_count": 3,
   "id": "722d7e3f",
   "metadata": {
    "ExecuteTime": {
     "end_time": "2024-09-28T14:41:13.427034Z",
     "start_time": "2024-09-28T14:27:27.314012Z"
    }
   },
   "outputs": [
    {
     "name": "stdout",
     "output_type": "stream",
     "text": [
      "------Loading data------\n",
      "------Data transposition------\n",
      "2129 cells, 37475 genes.\n",
      "------Step1: Calculate PCA------\n",
      "------Step2: Calculate the similarity matrix------\n",
      "------Step3: Adjust the expression value------\n",
      "------Step4: Calculate EI------\n"
     ]
    },
    {
     "name": "stderr",
     "output_type": "stream",
     "text": [
      "cluster:Basal_plate_of_hindbrainrunningcalculate_EI(6/6): 100%|█| 14/14 [12:37<0"
     ]
    },
    {
     "name": "stdout",
     "output_type": "stream",
     "text": [
      "2.41 seconds used for calculate_mean_and_var.\n",
      "686.12 seconds used for calculate_smoothness.\n",
      "1.05 seconds used for calculate_V.\n",
      "11.81 seconds used for calculate_prop.\n",
      "54.59 seconds used for calculate_local_mean_max.\n",
      "0.88 seconds used for calculate_EI.\n",
      "------Congratulations, success!------\n"
     ]
    },
    {
     "name": "stderr",
     "output_type": "stream",
     "text": [
      "\n"
     ]
    }
   ],
   "source": [
    "# Run with the default parameters.\n",
    "info,adata=marker_utils.get_spatial_MarkersEI('example_data/spatial_atac.h5ad')"
   ]
  },
  {
   "cell_type": "code",
   "execution_count": 4,
   "id": "f9024a99",
   "metadata": {
    "ExecuteTime": {
     "end_time": "2024-09-28T14:41:13.461489Z",
     "start_time": "2024-09-28T14:41:13.435259Z"
    }
   },
   "outputs": [
    {
     "data": {
      "text/html": [
       "<div>\n",
       "<style scoped>\n",
       "    .dataframe tbody tr th:only-of-type {\n",
       "        vertical-align: middle;\n",
       "    }\n",
       "\n",
       "    .dataframe tbody tr th {\n",
       "        vertical-align: top;\n",
       "    }\n",
       "\n",
       "    .dataframe thead th {\n",
       "        text-align: right;\n",
       "    }\n",
       "</style>\n",
       "<table border=\"1\" class=\"dataframe\">\n",
       "  <thead>\n",
       "    <tr style=\"text-align: right;\">\n",
       "      <th></th>\n",
       "      <th>Features</th>\n",
       "      <th>Mean</th>\n",
       "      <th>Smoothness</th>\n",
       "      <th>Local_max</th>\n",
       "      <th>V</th>\n",
       "      <th>Prop</th>\n",
       "      <th>Prop_sum</th>\n",
       "      <th>P</th>\n",
       "      <th>EI</th>\n",
       "    </tr>\n",
       "  </thead>\n",
       "  <tbody>\n",
       "    <tr>\n",
       "      <th>20225</th>\n",
       "      <td>chr2:145881298-145881799</td>\n",
       "      <td>0.844071</td>\n",
       "      <td>0.050133</td>\n",
       "      <td>1.384429</td>\n",
       "      <td>14.211410</td>\n",
       "      <td>4.866924e+12</td>\n",
       "      <td>2.028193e+07</td>\n",
       "      <td>0.127119</td>\n",
       "      <td>0.023072</td>\n",
       "    </tr>\n",
       "    <tr>\n",
       "      <th>15403</th>\n",
       "      <td>chr17:56007029-56007530</td>\n",
       "      <td>0.696012</td>\n",
       "      <td>0.055302</td>\n",
       "      <td>1.303596</td>\n",
       "      <td>8.759784</td>\n",
       "      <td>5.746806e+09</td>\n",
       "      <td>4.062194e+04</td>\n",
       "      <td>0.076923</td>\n",
       "      <td>0.009059</td>\n",
       "    </tr>\n",
       "    <tr>\n",
       "      <th>25884</th>\n",
       "      <td>chr5:33228289-33228790</td>\n",
       "      <td>0.762636</td>\n",
       "      <td>0.053648</td>\n",
       "      <td>1.221360</td>\n",
       "      <td>10.841203</td>\n",
       "      <td>1.672401e+11</td>\n",
       "      <td>2.411353e+06</td>\n",
       "      <td>0.105932</td>\n",
       "      <td>0.005955</td>\n",
       "    </tr>\n",
       "    <tr>\n",
       "      <th>20967</th>\n",
       "      <td>chr2:173377888-173378389</td>\n",
       "      <td>0.787216</td>\n",
       "      <td>0.053523</td>\n",
       "      <td>1.236590</td>\n",
       "      <td>11.578457</td>\n",
       "      <td>3.100156e+10</td>\n",
       "      <td>1.314712e+06</td>\n",
       "      <td>0.105263</td>\n",
       "      <td>0.002130</td>\n",
       "    </tr>\n",
       "    <tr>\n",
       "      <th>20866</th>\n",
       "      <td>chr2:168451683-168452184</td>\n",
       "      <td>0.752692</td>\n",
       "      <td>0.056592</td>\n",
       "      <td>0.810277</td>\n",
       "      <td>10.011061</td>\n",
       "      <td>1.767657e+10</td>\n",
       "      <td>1.016632e+06</td>\n",
       "      <td>0.105263</td>\n",
       "      <td>0.002073</td>\n",
       "    </tr>\n",
       "    <tr>\n",
       "      <th>7217</th>\n",
       "      <td>chr12:16151031-16151532</td>\n",
       "      <td>0.788245</td>\n",
       "      <td>0.054260</td>\n",
       "      <td>1.154678</td>\n",
       "      <td>11.450917</td>\n",
       "      <td>5.437124e+10</td>\n",
       "      <td>3.021226e+06</td>\n",
       "      <td>0.107692</td>\n",
       "      <td>0.001743</td>\n",
       "    </tr>\n",
       "  </tbody>\n",
       "</table>\n",
       "</div>"
      ],
      "text/plain": [
       "                       Features      Mean  Smoothness  Local_max          V  \\\n",
       "20225  chr2:145881298-145881799  0.844071    0.050133   1.384429  14.211410   \n",
       "15403   chr17:56007029-56007530  0.696012    0.055302   1.303596   8.759784   \n",
       "25884    chr5:33228289-33228790  0.762636    0.053648   1.221360  10.841203   \n",
       "20967  chr2:173377888-173378389  0.787216    0.053523   1.236590  11.578457   \n",
       "20866  chr2:168451683-168452184  0.752692    0.056592   0.810277  10.011061   \n",
       "7217    chr12:16151031-16151532  0.788245    0.054260   1.154678  11.450917   \n",
       "\n",
       "               Prop      Prop_sum         P        EI  \n",
       "20225  4.866924e+12  2.028193e+07  0.127119  0.023072  \n",
       "15403  5.746806e+09  4.062194e+04  0.076923  0.009059  \n",
       "25884  1.672401e+11  2.411353e+06  0.105932  0.005955  \n",
       "20967  3.100156e+10  1.314712e+06  0.105263  0.002130  \n",
       "20866  1.767657e+10  1.016632e+06  0.105263  0.002073  \n",
       "7217   5.437124e+10  3.021226e+06  0.107692  0.001743  "
      ]
     },
     "execution_count": 4,
     "metadata": {},
     "output_type": "execute_result"
    }
   ],
   "source": [
    "# Print the first six Features.\n",
    "info[list(info.keys())[0]].sort_values(by='EI', ascending=False).head(6)"
   ]
  },
  {
   "cell_type": "code",
   "execution_count": 5,
   "id": "1f49cf57",
   "metadata": {
    "ExecuteTime": {
     "end_time": "2024-09-28T14:41:18.752890Z",
     "start_time": "2024-09-28T14:41:13.463386Z"
    }
   },
   "outputs": [],
   "source": [
    "# Save the data to the output folder.\n",
    "save_data(info,output_dir=\"./output\") "
   ]
  }
 ],
 "metadata": {
  "kernelspec": {
   "display_name": "CSMarker",
   "language": "python",
   "name": "csmarker"
  },
  "language_info": {
   "codemirror_mode": {
    "name": "ipython",
    "version": 3
   },
   "file_extension": ".py",
   "mimetype": "text/x-python",
   "name": "python",
   "nbconvert_exporter": "python",
   "pygments_lexer": "ipython3",
   "version": "3.10.14"
  },
  "toc": {
   "base_numbering": 1,
   "nav_menu": {},
   "number_sections": true,
   "sideBar": true,
   "skip_h1_title": false,
   "title_cell": "Table of Contents",
   "title_sidebar": "Contents",
   "toc_cell": false,
   "toc_position": {},
   "toc_section_display": true,
   "toc_window_display": false
  },
  "varInspector": {
   "cols": {
    "lenName": 16,
    "lenType": 16,
    "lenVar": 40
   },
   "kernels_config": {
    "python": {
     "delete_cmd_postfix": "",
     "delete_cmd_prefix": "del ",
     "library": "var_list.py",
     "varRefreshCmd": "print(var_dic_list())"
    },
    "r": {
     "delete_cmd_postfix": ") ",
     "delete_cmd_prefix": "rm(",
     "library": "var_list.r",
     "varRefreshCmd": "cat(var_dic_list()) "
    }
   },
   "types_to_exclude": [
    "module",
    "function",
    "builtin_function_or_method",
    "instance",
    "_Feature"
   ],
   "window_display": false
  }
 },
 "nbformat": 4,
 "nbformat_minor": 5
}
